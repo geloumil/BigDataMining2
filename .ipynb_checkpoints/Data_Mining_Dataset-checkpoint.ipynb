{
 "cells": [
  {
   "cell_type": "code",
   "execution_count": 90,
   "metadata": {
    "collapsed": true
   },
   "outputs": [],
   "source": [
    "import psycopg2\n",
    "import sys\n",
    "from datetime import datetime\n",
    "from datetime import timedelta\n",
    "from datetime import date\n",
    "import random\n",
    "import numpy as np\n",
    "import csv"
   ]
  },
  {
   "cell_type": "code",
   "execution_count": 91,
   "metadata": {
    "collapsed": true
   },
   "outputs": [],
   "source": [
    "now = datetime.now().date()\n",
    "arrivals = ['11:00', '12:00', '13:00', '14:00', '15:00', '16:00', '23:00', '22:00']"
   ]
  },
  {
   "cell_type": "markdown",
   "metadata": {},
   "source": [
    "Crud"
   ]
  },
  {
   "cell_type": "code",
   "execution_count": 5,
   "metadata": {
    "collapsed": true
   },
   "outputs": [],
   "source": [
    "con = None\n",
    "\n",
    "try:\n",
    "    con = psycopg2.connect(\"host = 'localhost' dbname='postgres' user = 'postgres'  password = 'postgres'\")\n",
    "    cur = con.cursor()\n",
    "#     cur.execute(\"CREATE TABLE Persons(Username varchar(40), Name varchar(40), Surame varchar(40),Password varchar(40), Date_of_Birth varchar(40), Age integer, Days_of_Reservation integer)\")\n",
    "#     cur.execute(\"CREATE TABLE Room(Id_Room integer, Location varchar(40), Available_From_Date varchar(40),Available_Till_Date varchar(40), Area integer, Price integer, People_Capacity integer, Plus_Person_Price integer, Arrival_Time varchar(40), Single integer, Sofa integer, Double_Bed integer, King_Size integer, Pets boolean, Smoking boolean, Events boolean, Minimum_Days integer, Air_Condition boolean, Heating boolean, WiFi boolean, TV boolean, Elevator boolean, Parking boolean, Oving boolean)\")\n",
    "#     cur.execute(\"INSERT INTO Persons VALUES('than', 'thanasis', 'Kar', 5, 'thanos', '01/07/1988')\")\n",
    "#     cur.execute(\"DROP TABLE Persons\")\n",
    "#     cur.execute(\"DROP TABLE Room\")\n",
    "    con.commit()\n",
    "except psycopg2.DatabaseError, e:\n",
    "    if con:\n",
    "        con.rollback()\n",
    "        \n",
    "    print 'Error %s' %e\n",
    "    sys.exit(1)\n",
    "    \n",
    "# finally:\n",
    "#     if con:\n",
    "#         con.close()"
   ]
  },
  {
   "cell_type": "markdown",
   "metadata": {},
   "source": [
    "Database Selects"
   ]
  },
  {
   "cell_type": "code",
   "execution_count": null,
   "metadata": {
    "collapsed": true
   },
   "outputs": [],
   "source": [
    "cur = con.cursor()\n",
    "# cur.execute(\"\"\"SELECT * from Persons\"\"\")\n",
    "cur.execute(\"\"\"SELECT * from Room\"\"\")\n",
    "\n",
    "rows = cur.fetchall()\n",
    "print \"\\nRows: \\n\"\n",
    "for row in rows:\n",
    "    print row"
   ]
  },
  {
   "cell_type": "markdown",
   "metadata": {},
   "source": [
    "Create Rules"
   ]
  },
  {
   "cell_type": "code",
   "execution_count": null,
   "metadata": {
    "collapsed": true
   },
   "outputs": [],
   "source": [
    "Id_Room\n",
    "Location \n",
    "Available_From_Date \n",
    "Available_Till_Date \n",
    "Area \n",
    "Price \n",
    "People_Capacity \n",
    "Plus_Person_Price \n",
    "Arrival_Time\n",
    "Single Sofa, Double_Bed, King_Size, \n",
    "Pets Smoking, Events Minimum_Days, Air_Condition, Heating, WiFi, TV, Elevator, Parking, Oven"
   ]
  },
  {
   "cell_type": "code",
   "execution_count": 92,
   "metadata": {},
   "outputs": [],
   "source": [
    "csvfile2 = open('/home/mscuser/Desktop/data-mining/BigDataMining2/CSV_Database_Of_First_And_Last_Names/GreekCities.csv', 'r')\n",
    "creader2 = csv.reader(csvfile2, delimiter=',', quotechar='\"')"
   ]
  },
  {
   "cell_type": "code",
   "execution_count": 94,
   "metadata": {},
   "outputs": [
    {
     "name": "stdout",
     "output_type": "stream",
     "text": [
      "['Nea Ionia', '2018-04-17', '2018-06-03', 0, 10000, 100, 10000, '13:00', 0, 1, 0, 1, 1, 1, 1, 5, 1, 0, 0, 0, 1, 0, 1]\n"
     ]
    },
    {
     "ename": "IndexError",
     "evalue": "string index out of range",
     "output_type": "error",
     "traceback": [
      "\u001b[0;31m---------------------------------------------------------------------------\u001b[0m",
      "\u001b[0;31mIndexError\u001b[0m                                Traceback (most recent call last)",
      "\u001b[0;32m<ipython-input-94-06b9843c6e63>\u001b[0m in \u001b[0;36m<module>\u001b[0;34m()\u001b[0m\n\u001b[1;32m    106\u001b[0m         \u001b[0;32mprint\u001b[0m \u001b[0mroom\u001b[0m\u001b[0;34m\u001b[0m\u001b[0m\n\u001b[1;32m    107\u001b[0m         \u001b[0;32mfor\u001b[0m \u001b[0mk\u001b[0m \u001b[0;32min\u001b[0m \u001b[0mroom\u001b[0m\u001b[0;34m:\u001b[0m\u001b[0;34m\u001b[0m\u001b[0m\n\u001b[0;32m--> 108\u001b[0;31m             \u001b[0mcur\u001b[0m\u001b[0;34m.\u001b[0m\u001b[0mexecute\u001b[0m\u001b[0;34m(\u001b[0m\u001b[0;34m\"INSERT into Room (Id_Room, Location, Available_From_Date,Available_Till_Date, Area, Price, People_Capacity, Plus_Person_Price , Arrival_Time, Single , Sofa , Double_Bed , King_Size, Pets, Smoking, Events, Minimum_Days, Air_Condition, Heating, WiFi, TV, Elevator, Parking, Oving) VALUES (NULL, %s, %s, %s, %s, %s, %s, %s, %s, %s, %s, %s, %s, %s, %s, %s, %s, %s, %s, %s, %s, %s, %s, %s)\"\u001b[0m\u001b[0;34m,\u001b[0m \u001b[0mk\u001b[0m\u001b[0;34m)\u001b[0m\u001b[0;34m\u001b[0m\u001b[0m\n\u001b[0m\u001b[1;32m    109\u001b[0m \u001b[0;34m\u001b[0m\u001b[0m\n\u001b[1;32m    110\u001b[0m         \u001b[0mcon\u001b[0m\u001b[0;34m.\u001b[0m\u001b[0mcommit\u001b[0m\u001b[0;34m(\u001b[0m\u001b[0;34m)\u001b[0m\u001b[0;34m\u001b[0m\u001b[0m\n",
      "\u001b[0;31mIndexError\u001b[0m: string index out of range"
     ]
    }
   ],
   "source": [
    "n = 60     #arithmos eggrafwn\n",
    "\n",
    "try:\n",
    "    con = psycopg2.connect(\"host = 'localhost' dbname='postgres' user = 'postgres'  password = 'postgres'\")\n",
    "    cur = con.cursor()\n",
    "#         cur.execute(\"CREATE TABLE Persons(Username varchar(40), Name varchar(40), Surame varchar(40),Password varchar(40), Date_of_Birth varchar(40), Age integer, Days_of_Reservation integer)\")\n",
    "    cur.execute(\"CREATE TABLE Room(Id_Room integer, Location varchar(40), Available_From_Date varchar(40),Available_Till_Date varchar(40), Area integer, Price integer, People_Capacity integer, Plus_Person_Price integer, Arrival_Time varchar(40), Single integer, Sofa integer, Double_Bed integer, King_Size integer, Pets integer, Smoking integer, Events integer, Minimum_Days integer, Air_Condition integer, Heating integer, WiFi integer, TV integer, Elevator integer, Parking integer, Oving integer)\")\n",
    "# #         cur.execute(\"INSERT INTO Room VALUES(t)\")\n",
    "#     #     cur.execute(\"DROP TABLE Persons\")\n",
    "#     #     cur.execute(\"DROP TABLE Room\")\n",
    "#         con.commit()\n",
    "\n",
    "\n",
    "    for j, row in zip(range(n), creader2):\n",
    "\n",
    "        room = []\n",
    "        room.extend(row)\n",
    "        # Available_From_Date, Available_Till_Date\n",
    "\n",
    "        diff = timedelta(days=random.randint(1, 30))\n",
    "        diff2 = timedelta(days=random.randint(1, 100))\n",
    "\n",
    "        from_date = now + diff\n",
    "        till_date = from_date + diff2\n",
    "        room.append(str(from_date))\n",
    "        room.append(str(till_date))\n",
    "\n",
    "        # Area\n",
    "\n",
    "        if j%46 != 0:\n",
    "            area = np.random.randint(20, 100)\n",
    "        elif j%100 == 2:\n",
    "            area = \" \"\n",
    "        else:\n",
    "            area = 0\n",
    "        room.append(area)\n",
    "\n",
    "        # Price\n",
    "\n",
    "        if j%46 != 0:\n",
    "            price = np.random.randint(0, 500)\n",
    "        elif j%10 == 2:\n",
    "            price = \" \"\n",
    "        else:\n",
    "            price = 10000\n",
    "        room.append(price)\n",
    "\n",
    "        # People_Capacity\n",
    "        if j%46 != 0:\n",
    "            capacity = np.random.randint(0, 10)\n",
    "        elif j%100 == 2:\n",
    "            capacity = \" \"\n",
    "        else:\n",
    "            capacity = 100\n",
    "        room.append(capacity)\n",
    "\n",
    "\n",
    "        # Plus_Person_Price\n",
    "\n",
    "        if j%46 != 0:\n",
    "            plus_price = np.random.randint(0, 500)\n",
    "        elif j%10 == 2:\n",
    "            plus_price = \" \"\n",
    "        else:\n",
    "            plus_price = 10000\n",
    "        room.append(plus_price)\n",
    "\n",
    "        # Arrival_Time\n",
    "\n",
    "        arrival_time = arrivals[random.randint(0, len(arrivals) - 1)]\n",
    "        room.append(str(arrival_time))\n",
    "        # Beds\n",
    "\n",
    "        for i in range(1,5):        #gia ta bed types\n",
    "            if i%200 != 0:\n",
    "                beds = np.random.binomial(n=1, p= 0.5)\n",
    "            elif i%26 == 0:\n",
    "                beds = \" \"\n",
    "            else:\n",
    "                beds = '20'\n",
    "            room.append(beds)\n",
    "\n",
    "\n",
    "        # Rules\n",
    "\n",
    "        for i in range(1,4):        #gia ta Pets, Smoking, Events\n",
    "            if i%200 != 0:\n",
    "                pse = np.random.binomial(n=1, p= 0.5)\n",
    "            elif i%26 == 0:\n",
    "                pse =' '\n",
    "            else:\n",
    "                pse = '2'\n",
    "            room.append(pse)\n",
    "        min_days= np.random.randint(0, 11)      #gia to Minimum_Days\n",
    "        room.append(min_days)\n",
    "\n",
    "        for i in range(1,8):      \n",
    "            if i%200 != 0:\n",
    "                facilities = np.random.binomial(n=1, p= 0.5)\n",
    "            elif i%26 == 0:\n",
    "                facilities = ' '\n",
    "            else:\n",
    "                facilities = '2'\n",
    "            room.append(facilities)\n",
    "\n",
    "        print room\n",
    "        for k in room:\n",
    "            cur.execute(\"INSERT into Room (Id_Room, Location, Available_From_Date,Available_Till_Date, Area, Price, People_Capacity, Plus_Person_Price , Arrival_Time, Single , Sofa , Double_Bed , King_Size, Pets, Smoking, Events, Minimum_Days, Air_Condition, Heating, WiFi, TV, Elevator, Parking, Oving) VALUES (NULL, %s, %s, %s, %s, %s, %s, %s, %s, %s, %s, %s, %s, %s, %s, %s, %s, %s, %s, %s, %s, %s, %s, %s)\", k)\n",
    "\n",
    "        con.commit()\n",
    "        print room\n",
    "\n",
    "        #cur.execute(\"INSERT INTO Persons VALUES('than', 'thanasis', 'Kar', 5, 'thanos', '01/07/1988')\")\n",
    "\n",
    "\n",
    "except psycopg2.DatabaseError, e:\n",
    "        if con:\n",
    "            con.rollback()\n",
    "\n",
    "        print 'Error %s' %e\n",
    "        sys.exit(1)\n",
    "        \n",
    "        \n"
   ]
  },
  {
   "cell_type": "code",
   "execution_count": 59,
   "metadata": {},
   "outputs": [
    {
     "name": "stdout",
     "output_type": "stream",
     "text": [
      "['Aaberg', '', 'pP2RY?kw', 'AabergAaron', 'AaberAaron@gmail.com', '1982-10-21', 36, 11]\n",
      "['Aaby', 'Aaron', 'y!dk4eKW', 'AabyAaron', 'AabyAaron@gmail.com', '1976-04-20', 42, 15]\n",
      "['Aadland', 'Abbey', 'gh3Q@3Uy', 'AadlandAbbey', 'AadlaAbbey@gmail.com', '1942-06-16', 76, 1]\n",
      "['', 'Abbie', '>2PJcXPE', 'AagaardAbbie', 'AagaaAbbie@gmail.com', '2001-12-27', 17, 14]\n",
      "['Aakre', 'Abby', '!$GH#d>3', 'AakreAbby', 'AakreAbby@gmail.com', '2002-09-05', 16, 19]\n",
      "['Aaland', 'Abdul', '2dSy^#35', 'AalandAbdul', 'AalanAbdul@gmail.com', '1974-05-06', 44, 12]\n",
      "['Aalbers', 'Abe', '3M~E#4sd', 'AalbersAbe', 'AalbeAbe@gmail.com', '2008-10-17', 10, 15]\n",
      "['Aalderink', 'Abel', 'gnTR$W3p', 'AalderinkAbel', 'AaldeAbel@gmail.com', '1961-02-20', 57, 14]\n",
      "['Aalund', 'Abigail', 'sF+#KT76', 'AalundAbigail', 'AalunAbiga@gmail.com', '1934-05-22', 84, 5]\n",
      "['Aamodt', 'Abraham', '&3R6cEVQ', 'AamodtAbraham', 'AamodAbrah@gmail.com', '2001-07-20', 17, 2]\n",
      "['Aamot', 'Abram', 'SGaWY7K@', 'AamotAbram', 'AamotAbram@gmail.com', '1959-05-01', 59, 19]\n",
      "['Aanderud', 'Ada', 'nfw>ZP82', 'AanderudAda', 'AandeAda@gmail.com', '1999-01-22', 19, 9]\n",
      "['Aanenson', 'Adah', 'cM>2>tEc', 'AanensonAdah', 'AanenAdah@gmail.com', '1982-02-08', 36, 19]\n",
      "['Aanerud', 'Adalberto', 'TL~E&NU4', 'AanerudAdalberto', 'AanerAdalb@gmail.com', '1969-08-24', 49, 11]\n",
      "['Aarant', 'Adaline', 'P!+5c2Dd', 'AarantAdaline', 'AaranAdali@gmail.com', '1961-06-10', 57, 1]\n",
      "['Aardema', 'Adam', '8%w2h#cA', 'AardemaAdam', 'AardeAdam@gmail.com', '1932-06-25', 86, 12]\n",
      "['Aarestad', 'Adam', '%eZ7tKF6', 'AarestadAdam', 'AaresAdam@gmail.com', '1986-09-03', 32, 15]\n",
      "['Aarhus', 'Adan', 'dmPVD#99', 'AarhusAdan', 'AarhuAdan@gmail.com', '1939-08-19', 79, 2]\n",
      "['Aaron', 'Addie', 'Gs5~8EP~', 'AaronAddie', 'AaronAddie@gmail.com', '1967-10-05', 51, 2]\n",
      "['Aarons', 'Adela', 'LVS@m$98', 'AaronsAdela', 'AaronAdela@gmail.com', '1939-08-08', 79, 13]\n",
      "['Aaronson', '', 'xADvDu!6', 'AaronsonAdelaida', 'AaronAdela@gmail.com', '2008-09-08', 10, 10]\n",
      "['Aarsvold', 'Adelaide', '#kH7nG4P', 'AarsvoldAdelaide', 'AarsvAdela@gmail.com', '2009-02-22', 9, 10]\n",
      "['Aas', 'Adele', '6TaCkG~c', '', 'AasAdele@gmail.com', '2001-04-13', 17, 11]\n",
      "['Aasby', 'Adelia', 'LL3N9%hz', 'AasbyAdelia', 'AasbyAdeli@gmail.com', '1977-08-21', 41, 12]\n",
      "['Aase', 'Adelina', '^Xc^d!~3', 'AaseAdelina', 'AaseAdeli@gmail.com', '1951-02-10', 67, 9]\n",
      "['Aasen', 'Adeline', 'Y6UQL+%!', 'AasenAdeline', 'AasenAdeli@gmail.com', '2012-04-11', 6, 20]\n",
      "['Aavang', 'Adell', 'Y65RZx!&', 'AavangAdell', 'AavanAdell@gmail.com', '1958-05-24', 60, 10]\n",
      "['Abad', 'Adella', 'CdF~Nx+5', 'AbadAdella', 'AbadAdell@gmail.com', '1975-03-30', 43, 9]\n",
      "['Abadi', 'Adelle', 'L6epK!Jx', 'AbadiAdelle', 'AbadiAdell@gmail.com', '1960-03-11', 58, 11]\n",
      "['Abadie', 'Adena', '!4A?q9Yc', 'AbadieAdena', 'AbadiAdena@gmail.com', '2016-05-28', 2, 18]\n",
      "['Abair', 'Adina', 'cW7F#ABk', 'AbairAdina', 'AbairAdina@gmail.com', '1957-05-05', 61, 14]\n",
      "['Abaja', 'Adolfo', '@VXef8%Y', 'AbajaAdolfo', 'AbajaAdolf@gmail.com', '2014-01-03', 4, 10]\n",
      "['Abajian', 'Adolph', 'e$+RDN5M', 'AbajianAdolph', 'AbajiAdolp@gmail.com', '1952-06-25', 66, 3]\n",
      "['Abalos', 'Adria', '&y9AD2d$', 'AbalosAdria', 'AbaloAdria@gmail.com', '2008-09-15', 10, 18]\n",
      "['Abaloz', 'Adrian', 'W^Y83Zj!', 'AbalozAdrian', 'AbaloAdria@gmail.com', '1954-10-31', 64, 15]\n",
      "['Abar', 'Adrian', 'E+%ZjcT3', 'AbarAdrian', 'AbarAdria@gmail.com', '1957-03-13', 61, 2]\n",
      "['Abarca', 'Adriana', 'a$!&#72L', 'AbarcaAdriana', 'AbarcAdria@gmail.com', '1935-02-04', 83, 3]\n",
      "['Abare', 'Adriane', 'L!y~YG4M', 'AbareAdriane', 'AbareAdria@gmail.com', '1958-08-10', 60, 9]\n",
      "['Abascal', 'Adrianna', '>C!S^5H>', 'AbascalAdrianna', 'AbascAdria@gmail.com', '1948-04-21', 70, 20]\n",
      "['Abasta', 'Adrianne', '9S9B>DSN', 'AbastaAdrianne', 'AbastAdria@gmail.com', '1985-06-02', 33, 4]\n",
      "['Abate', 'Adrien', '>D92L^tS', 'AbateAdrien', 'AbateAdrie@gmail.com', '1938-03-03', 80, 11]\n",
      "['Abati', 'Adriene', 'L@F5!xcy', 'AbatiAdriene', 'AbatiAdrie@gmail.com', '1947-04-16', 71, 9]\n",
      "['Abatiell', 'Adrienne', '$RHEd4Kw', 'AbatiellAdrienne', 'AbatiAdrie@gmail.com', '1969-05-25', 49, 14]\n",
      "['Abato', 'Afton', '?RY3B!2y', 'AbatoAfton', 'AbatoAfton@gmail.com', '1950-05-08', 68, 17]\n",
      "['Abatti', 'Agatha', 'm@7?>JZ3', 'AbattiAgatha', 'AbattAgath@gmail.com', '1935-07-16', 83, 11]\n",
      "['Abaunza', 'Agnes', 'r#2MM78>', 'AbaunzaAgnes', 'AbaunAgnes@gmail.com', '1964-01-18', 54, 14]\n",
      "['Abaya', 'Agnus', 'T?%p?3KL', 'AbayaAgnus', 'AbayaAgnus@gmail.com', '1955-11-04', 63, 10]\n",
      "['Abbadessa', 'Agripina', 'qj9ER>~c', 'AbbadessaAgripina', 'AbbadAgrip@gmail.com', '1961-01-14', 57, 16]\n",
      "['Abbamonte', 'Agueda', 'AWW@4dbK', 'AbbamonteAgueda', 'AbbamAgued@gmail.com', '1985-12-24', 33, 13]\n",
      "['Abbas', 'Agustin', 'G4RJyx#Y', 'AbbasAgustin', 'AbbasAgust@gmail.com', '1932-03-13', 86, 5]\n",
      "['Abbasi', 'Agustina', 'H!n2>MrZ', 'AbbasiAgustina', 'AbbasAgust@gmail.com', '1984-10-24', 34, 11]\n",
      "['Abbassi', 'Ahmad', 'Y4H2@h&9', 'AbbassiAhmad', 'AbbasAhmad@gmail.com', '2015-09-21', 3, 1]\n",
      "['Abbate', 'Ahmed', '+$s86Kd6', 'AbbateAhmed', 'AbbatAhmed@gmail.com', '1954-07-31', 64, 1]\n",
      "['Abbatiello', 'Ai', '7UXH^DLd', 'AbbatielloAi', 'AbbatAi@gmail.com', '1976-01-04', 42, 6]\n",
      "['Abbay', 'Aida', 'rkL#XhN9', 'AbbayAida', 'AbbayAida@gmail.com', '1944-01-29', 74, 17]\n",
      "['Abbe', 'Aide', 'CT6#8dtF', 'AbbeAide', 'AbbeAide@gmail.com', '1969-09-29', 49, 16]\n",
      "['Abbed', 'Aiko', 'A@k4b%&5', 'AbbedAiko', 'AbbedAiko@gmail.com', '1990-12-18', 28, 1]\n",
      "['Abbenante', 'Aileen', 'PJK!j2~#', 'AbbenanteAileen', 'AbbenAilee@gmail.com', '1951-11-23', 67, 18]\n",
      "['Abbey', 'Ailene', '9U#v!TM&', 'AbbeyAilene', 'AbbeyAilen@gmail.com', '1972-03-06', 46, 10]\n",
      "['Abbinanti', 'Aimee', 'RTTU6~$S', 'AbbinantiAimee', 'AbbinAimee@gmail.com', '1932-01-10', 86, 3]\n"
     ]
    }
   ],
   "source": [
    "csvfile = open('/home/mscuser/Desktop/data-mining/BigDataMining2/CSV_Database_Of_First_And_Last_Names/PersonData.csv', 'r')\n",
    "creader = csv.reader(csvfile, delimiter=',', quotechar='\"')\n",
    "\n",
    "for j, row in zip(range(n), creader):\n",
    "    person = []\n",
    "    person.extend(row)\n",
    "    year = random.randint(1930, 2017)\n",
    "    month = random.randint(1, 12)\n",
    "    if month in [1, 3, 5, 7, 8, 10, 12]:\n",
    "        day = random.randint(1, 31)\n",
    "    elif month == 2:\n",
    "        day = random.randint(1, 28)\n",
    "    else:\n",
    "        day = random.randint(1, 30)\n",
    "\n",
    "    birth_date = date(year, month, day)\n",
    "    person.append(str(birth_date))\n",
    "    '''Age according to random birth date'''\n",
    "    age = 2018 - year\n",
    "    person.append(age)\n",
    "    \n",
    "    reservation = random.randint(1, 20)\n",
    "    person.append(reservation)\n",
    "    print person"
   ]
  },
  {
   "cell_type": "markdown",
   "metadata": {},
   "source": [
    "Date_of_Birth"
   ]
  },
  {
   "cell_type": "code",
   "execution_count": null,
   "metadata": {
    "collapsed": true
   },
   "outputs": [],
   "source": [
    "year = random.randint(1930, 1999)\n",
    "month = random.randint(1, 12)\n",
    "if month in [1, 3, 5, 7, 8, 10, 12]:\n",
    "    day = random.randint(1, 31)\n",
    "elif month == 2:\n",
    "    day = random.randint(1, 28)\n",
    "else:\n",
    "    day = random.randint(1, 30)\n",
    "        \n",
    "birth_date = date(year, month, day)\n",
    "print birth_date\n",
    "\n",
    "'''Age according to random birth date'''\n",
    "\n",
    "age = 2018 - year\n",
    "print age"
   ]
  }
 ],
 "metadata": {
  "kernelspec": {
   "display_name": "Python 2",
   "language": "python",
   "name": "python2"
  },
  "language_info": {
   "codemirror_mode": {
    "name": "ipython",
    "version": 2
   },
   "file_extension": ".py",
   "mimetype": "text/x-python",
   "name": "python",
   "nbconvert_exporter": "python",
   "pygments_lexer": "ipython2",
   "version": "2.7.13"
  }
 },
 "nbformat": 4,
 "nbformat_minor": 2
}
