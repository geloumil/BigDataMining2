{
 "cells": [
  {
   "cell_type": "code",
   "execution_count": 19,
   "metadata": {
    "collapsed": true
   },
   "outputs": [],
   "source": [
    "import psycopg2\n",
    "import sys\n",
    "from datetime import datetime\n",
    "from datetime import timedelta\n",
    "from datetime import date\n",
    "import random\n",
    "import numpy as np\n",
    "import csv"
   ]
  },
  {
   "cell_type": "code",
   "execution_count": 20,
   "metadata": {
    "collapsed": true
   },
   "outputs": [],
   "source": [
    "now = datetime.now().date()\n",
    "arrivals = ['11:00', '12:00', '13:00', '14:00', '15:00', '16:00', '23:00', '22:00']"
   ]
  },
  {
   "cell_type": "code",
   "execution_count": 21,
   "metadata": {},
   "outputs": [],
   "source": [
    "csvfile2 = open('/home/mscuser/github/BigDataMining2/CSV_Database_Of_First_And_Last_Names/GreekCities.csv', 'r') #valia changed to my path\n",
    "creader2 = csv.reader(csvfile2, delimiter=',', quotechar='\"')"
   ]
  },
  {
   "cell_type": "code",
   "execution_count": null,
   "metadata": {},
   "outputs": [],
   "source": [
    "n = 6000     #number of rooms' details\n",
    "\n",
    "try:\n",
    "    con = psycopg2.connect(\"host=localhost user=postgres password=mscuser2017\")  #valia changed to work for my psql: psycopg2.connect(\"host = 'localhost' dbname='postgres' user = 'postgres'  password = 'postgres'\")\n",
    "    cur = con.cursor()\n",
    "    cur.execute(\"CREATE TABLE Room(Id_Room SERIAL PRIMARY KEY, Location varchar(40), Available_From_Date varchar(40), Available_Till_Date varchar(40), Area varchar(40), Price varchar(40), People_Capacity varchar(40),Plus_Person_Price varchar(40), Arrival_Time varchar(40), Single varchar(40), Sofa varchar(40), Double_Bed varchar(40), King_Size varchar(40), Pets varchar(40), Smoking varchar(40), Events varchar(40), Minimum_Days varchar(40), Air_Condition varchar(40), Heating varchar(40), WiFi varchar(40), TV varchar(40), Elevator varchar(40), Parking varchar(40), Oven varchar(40))\")\n",
    "    for j, row in zip(range(n), creader2):\n",
    "\n",
    "        room = []\n",
    "        room.extend(row)\n",
    "        # Available_From_Date, Available_Till_Date\n",
    "\n",
    "        diff = timedelta(days=random.randint(1, 30))\n",
    "        diff2 = timedelta(days=random.randint(1, 100))\n",
    "\n",
    "        from_date = now + diff\n",
    "        till_date = from_date + diff2\n",
    "        room.append(str(from_date))\n",
    "        room.append(str(till_date))\n",
    "\n",
    "        # Area\n",
    "\n",
    "        if j%46 != 0:\n",
    "            area = np.random.randint(20, 100)\n",
    "        elif j%100 == 2:\n",
    "            area = \" \"\n",
    "        else:\n",
    "            area = 0\n",
    "        room.append(area)\n",
    "\n",
    "        # Price\n",
    "\n",
    "        if j%46 != 0:\n",
    "            price = np.random.randint(0, 500)\n",
    "        elif j%10 == 2:\n",
    "            price = \" \"\n",
    "        else:\n",
    "            price = 10000\n",
    "        room.append(price)\n",
    "\n",
    "        # People_Capacity\n",
    "        if j%46 != 0:\n",
    "            capacity = np.random.randint(0, 10)\n",
    "        elif j%100 == 2:\n",
    "            capacity = \" \"\n",
    "        else:\n",
    "            capacity = 100\n",
    "        room.append(capacity)\n",
    "\n",
    "        # Plus_Person_Price\n",
    "\n",
    "        if j%46 != 0:\n",
    "            plus_price = np.random.randint(0, 500)\n",
    "        elif j%10 == 2:\n",
    "            plus_price = \" \"\n",
    "        else:\n",
    "            plus_price = 10000\n",
    "        room.append(plus_price)\n",
    "\n",
    "        # Arrival_Time\n",
    "\n",
    "        arrival_time = arrivals[random.randint(0, len(arrivals) - 1)]\n",
    "        room.append(str(arrival_time))\n",
    "        \n",
    "        # Beds\n",
    "\n",
    "        for i in range(1,5):        #gia ta bed types\n",
    "            if i%200 != 0:\n",
    "                beds = np.random.binomial(n=1, p= 0.5)\n",
    "            elif i%26 == 0:\n",
    "                beds = \" \"\n",
    "            else:\n",
    "                beds = '20'\n",
    "            room.append(beds)\n",
    "\n",
    "        # Rules\n",
    "\n",
    "        for i in range(1,4):        #gia ta Pets, Smoking, Events\n",
    "            if i%200 != 0:\n",
    "                pse = np.random.binomial(n=1, p= 0.5)\n",
    "            elif i%26 == 0:\n",
    "                pse =' '\n",
    "            else:\n",
    "                pse = '2'\n",
    "            room.append(pse)\n",
    "        min_days= np.random.randint(0, 11)      #gia to Minimum_Days\n",
    "        room.append(min_days)\n",
    "\n",
    "        for i in range(1,8):      \n",
    "            if i%200 != 0:\n",
    "                facilities = np.random.binomial(n=1, p= 0.5)\n",
    "            elif i%26 == 0:\n",
    "                facilities = ' '\n",
    "            else:\n",
    "                facilities = '2'\n",
    "            room.append(facilities)\n",
    "        cur.execute(\"INSERT into Room (Location, Available_From_Date, Available_Till_Date, Area, Price, People_Capacity, Plus_Person_Price , Arrival_Time, Single , Sofa , Double_Bed , King_Size, Pets, Smoking, Events, Minimum_Days, Air_Condition, Heating, WiFi, TV, Elevator, Parking, Oven) VALUES (%s, %s, %s, %s, %s, %s, %s, %s, %s, %s, %s, %s, %s, %s, %s, %s, %s, %s, %s, %s, %s, %s, %s)\", room)\n",
    "        con.commit()\n",
    "except psycopg2.DatabaseError, e:\n",
    "        if con:\n",
    "            con.rollback()\n",
    "\n",
    "        print 'Error %s' %e\n",
    "        sys.exit(1)\n",
    "        \n",
    "        \n"
   ]
  },
  {
   "cell_type": "code",
   "execution_count": null,
   "metadata": {},
   "outputs": [],
   "source": [
    "csvfile = open('/home/mscuser/github/BigDataMining2/CSV_Database_Of_First_And_Last_Names/PersonData.csv', 'r') #valia changed to my path\n",
    "creader = csv.reader(csvfile, delimiter=',', quotechar='\"')\n",
    "m = 88799         #number of persons' details in csv\n",
    "cur.execute(\"CREATE TABLE Person(Id_Person SERIAL PRIMARY KEY, Name varchar(40), Surname varchar(40), Password varchar(40), Username varchar(40), Email varchar(40), Date_of_Birth varchar(40), Age varchar(40), Days_of_Reservation varchar(40))\")\n",
    "counter = 0\n",
    "for j, row in zip(range(m), creader):\n",
    "    person = []\n",
    "    person.extend(row)\n",
    "    year = random.randint(1930, 2017)\n",
    "    month = random.randint(1, 12)\n",
    "    if month in [1, 3, 5, 7, 8, 10, 12]:\n",
    "        day = random.randint(1, 31)\n",
    "    elif month == 2:\n",
    "        day = random.randint(1, 28)\n",
    "    else:\n",
    "        day = random.randint(1, 30)\n",
    "\n",
    "    birth_date = date(year, month, day)\n",
    "    person.append(str(birth_date))\n",
    "    '''Age according to random birth date'''\n",
    "    age = 2018 - year\n",
    "    person.append(age)\n",
    "    \n",
    "    reservation = random.randint(1, 20)\n",
    "    person.append(reservation)\n",
    "    cur.execute(\"INSERT into Person (Name, Surname, Password , Username, Email, Date_of_Birth, Age, Days_of_Reservation) VALUES (%s, %s, %s, %s, %s, %s, %s, %s)\", person)\n",
    "    con.commit()\n",
    "    counter = counter + 1\n",
    "print counter"
   ]
  },
  {
   "cell_type": "code",
   "execution_count": null,
   "metadata": {
    "collapsed": true
   },
   "outputs": [],
   "source": [
    "cur.execute(\"CREATE TABLE Reservations(Person_id integer REFERENCES Person(Id_Person), Room_id integer REFERENCES Room(Id_Room))\")\n",
    "con.commit()"
   ]
  },
  {
   "cell_type": "code",
   "execution_count": 9,
   "metadata": {
    "collapsed": true
   },
   "outputs": [],
   "source": [
    "#cur = con.cursor()     #valia commented out\n",
    "\n",
    "#for i in range(1,88799,5999):    #valia commented out\n",
    "#    print i\n",
    "#    cur.execute(\"SELECT count(*)from Person, Room where Id_Person=Id_Room+%s\", (i,))\n",
    "#    rows = cur.fetchall()\n",
    "#    print \"\\nRows: \\n\"\n",
    "#    for row in rows:\n",
    "#        print row\n",
    "        \n",
    "    #cur.execute(\"INSERT INTO Reservations(Person_id, Room_id) SELECT Id_Person, Id_Room from Person, Room where Id_Person=Id_Room+%s\", (i,))   #valia commented out\n",
    "\n",
    "reservation_lst = [(np.random.randint(0, 88000),np.random.randint(0, 6000)) for i in range(1000000)]     #valia create 1M list of (id_person, id_room)\n",
    "for i in range (len(reservation_lst)):        #valia create 1M reservation table\n",
    "    cur.execute(\"INSERT INTO Reservations(Person_id, Room_id) VALUES (%s, %s)\", (reservation_lst[i][0],reservation_lst[i][1]))   #valia\n",
    "    con.commit()"
   ]
  },
  {
   "cell_type": "code",
   "execution_count": 12,
   "metadata": {
    "collapsed": true
   },
   "outputs": [],
   "source": [
    "# To export the tables in .csv files we run the following commands in postgres environment\n",
    "\n",
    "# COPY (SELECT * FROM room) TO '/tmp/rooms.csv' With CSV;\n",
    "# COPY (SELECT * FROM person) TO '/tmp/persons.csv' With CSV;\n",
    "# COPY (SELECT * FROM reservations) TO '/tmp/reservations.csv' With CSV;\n",
    "\n",
    "\n",
    "\n",
    "query = \"\"\"SELECT * FROM Reservations\"\"\"\n",
    "\n",
    "outputquery = \"COPY ({0},{0}) TO STDOUT WITH CSV HEADER\".format(query)\n",
    "\n",
    "with open('reservations', 'w') as f:\n",
    "    cur.copy_expert(outputquery, f)\n"
   ]
  }
 ],
 "metadata": {
  "kernelspec": {
   "display_name": "Python 2",
   "language": "python",
   "name": "python2"
  },
  "language_info": {
   "codemirror_mode": {
    "name": "ipython",
    "version": 2
   },
   "file_extension": ".py",
   "mimetype": "text/x-python",
   "name": "python",
   "nbconvert_exporter": "python",
   "pygments_lexer": "ipython2",
   "version": "2.7.13"
  }
 },
 "nbformat": 4,
 "nbformat_minor": 2
}
