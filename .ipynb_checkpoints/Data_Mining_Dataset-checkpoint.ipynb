{
 "cells": [
  {
   "cell_type": "code",
   "execution_count": 2,
   "metadata": {
    "collapsed": true
   },
   "outputs": [],
   "source": [
    "import psycopg2\n",
    "import sys\n",
    "from datetime import datetime\n",
    "from datetime import timedelta\n",
    "from datetime import date\n",
    "import random"
   ]
  },
  {
   "cell_type": "markdown",
   "metadata": {},
   "source": [
    "Crud"
   ]
  },
  {
   "cell_type": "code",
   "execution_count": 5,
   "metadata": {
    "collapsed": true
   },
   "outputs": [],
   "source": [
    "con = None\n",
    "\n",
    "try:\n",
    "    con = psycopg2.connect(\"host = 'localhost' dbname='postgres' user = 'postgres'  password = 'postgres'\")\n",
    "    cur = con.cursor()\n",
    "#     cur.execute(\"CREATE TABLE Persons(Username varchar(40), Name varchar(40), Surame varchar(40),Password varchar(40), Date_of_Birth varchar(40), Days_of_Reservation integer)\")\n",
    "#     cur.execute(\"CREATE TABLE Room(Id_Room integer, Location varchar(40), Available_From_Date varchar(40),Available_Till_Date varchar(40), Area integer, Price integer, People_Capacity integer, Plus_Person_Price integer, Arrival_Time varchar(40), Single integer, Sofa integer, Double_Bed integer, King_Size integer, Pets boolean, Smoking boolean, Events boolean, Minimum_Days integer, Air_Condition boolean, Heating boolean, WiFi boolean, TV boolean, Elevator boolean, Parking boolean, Oving boolean)\")\n",
    "#     cur.execute(\"INSERT INTO Persons VALUES('than', 'thanasis', 'Kar', 5, 'thanos', '01/07/1988')\")\n",
    "#     cur.execute(\"DROP TABLE Persons\")\n",
    "#     cur.execute(\"DROP TABLE Room\")\n",
    "#     cur.execute(\"INSERT INTO Room VALUES(3, 'than', 'thanasis', 'Kar', 5)\")\n",
    "    con.commit()\n",
    "except psycopg2.DatabaseError, e:\n",
    "    if con:\n",
    "        con.rollback()\n",
    "        \n",
    "    print 'Error %s' %e\n",
    "    sys.exit(1)\n",
    "    \n",
    "# finally:\n",
    "#     if con:\n",
    "#         con.close()"
   ]
  },
  {
   "cell_type": "markdown",
   "metadata": {},
   "source": [
    "Database Selects"
   ]
  },
  {
   "cell_type": "code",
   "execution_count": null,
   "metadata": {
    "collapsed": true
   },
   "outputs": [],
   "source": [
    "cur = con.cursor()\n",
    "# cur.execute(\"\"\"SELECT * from Persons\"\"\")\n",
    "cur.execute(\"\"\"SELECT * from Room\"\"\")\n",
    "\n",
    "rows = cur.fetchall()\n",
    "print \"\\nRows: \\n\"\n",
    "for row in rows:\n",
    "    print row"
   ]
  },
  {
   "cell_type": "markdown",
   "metadata": {},
   "source": [
    "Create Rules"
   ]
  },
  {
   "cell_type": "code",
   "execution_count": null,
   "metadata": {
    "collapsed": true
   },
   "outputs": [],
   "source": [
    "#pinakas Rules\n",
    "import numpy as np\n",
    "n = 6000                   #arithmos eggrafwn\n",
    "for j in range(1,n):\n",
    "    for i in range(1,4):        #gia ta Pets, Smoking, Events\n",
    "        if i%200 != 0:\n",
    "            print np.random.binomial(n=1, p= 0.5)\n",
    "        elif i%26 == 0:\n",
    "            print \" \"\n",
    "        else:\n",
    "            print '2'   \n",
    "    print np.random.randint(0, 11)        #gia to Minimum_Dates"
   ]
  },
  {
   "cell_type": "markdown",
   "metadata": {},
   "source": [
    "Create Price, Plus_Person_Price"
   ]
  },
  {
   "cell_type": "code",
   "execution_count": null,
   "metadata": {
    "collapsed": true
   },
   "outputs": [],
   "source": [
    "# pinakas Room, column Price and Plus_person_price\n",
    "for i in range (1,n+1):\n",
    "    if i%46 != 0:\n",
    "        print np.random.randint(0, 500)\n",
    "    elif i%10 == 2:\n",
    "        print \" \"\n",
    "    else:\n",
    "        print 10000"
   ]
  },
  {
   "cell_type": "markdown",
   "metadata": {},
   "source": [
    "People_capacity"
   ]
  },
  {
   "cell_type": "code",
   "execution_count": null,
   "metadata": {
    "collapsed": true
   },
   "outputs": [],
   "source": [
    "#for room, column people_capacity\n",
    "for i in range (1,n+1):\n",
    "    if i%46 != 0:\n",
    "        print np.random.randint(0, 10)\n",
    "    elif i%100 == 2:\n",
    "        print \" \"\n",
    "    else:\n",
    "        print 100"
   ]
  },
  {
   "cell_type": "markdown",
   "metadata": {},
   "source": [
    "Area"
   ]
  },
  {
   "cell_type": "code",
   "execution_count": null,
   "metadata": {
    "collapsed": true
   },
   "outputs": [],
   "source": [
    "#for room, column Area\n",
    "for i in range (1,n+1):\n",
    "    if i%46 != 0:\n",
    "        print np.random.randint(20, 100)\n",
    "    elif i%100 == 2:\n",
    "        print \" \"\n",
    "    else:\n",
    "        print 0"
   ]
  },
  {
   "cell_type": "markdown",
   "metadata": {},
   "source": [
    "Beds"
   ]
  },
  {
   "cell_type": "code",
   "execution_count": null,
   "metadata": {
    "collapsed": true
   },
   "outputs": [],
   "source": [
    "for j in range(1,n+1):\n",
    "    for i in range(1,5):        #gia ta bed types\n",
    "        if i%200 != 0:\n",
    "            print np.random.binomial(size=1, n=1, p= 0.5)\n",
    "        elif i%26 == 0:\n",
    "            print \" \"\n",
    "        else:\n",
    "            print '20'   "
   ]
  },
  {
   "cell_type": "markdown",
   "metadata": {},
   "source": [
    "Date_of_Birth"
   ]
  },
  {
   "cell_type": "code",
   "execution_count": null,
   "metadata": {
    "collapsed": true
   },
   "outputs": [],
   "source": [
    "year = random.randint(1930, 1999)\n",
    "month = random.randint(1, 12)\n",
    "if month in [1, 3, 5, 7, 8, 10, 12]:\n",
    "    day = random.randint(1, 31)\n",
    "elif month == 2:\n",
    "    day = random.randint(1, 28)\n",
    "else:\n",
    "    day = random.randint(1, 30)\n",
    "        \n",
    "birth_date = date(year, month, day)\n",
    "print birth_date\n",
    "\n",
    "'''Age according to random birth date'''\n",
    "\n",
    "age = 2018 - year\n",
    "print age"
   ]
  },
  {
   "cell_type": "markdown",
   "metadata": {},
   "source": [
    "Available_from_Date, Available_till_Date "
   ]
  },
  {
   "cell_type": "code",
   "execution_count": null,
   "metadata": {
    "collapsed": true
   },
   "outputs": [],
   "source": [
    "'''Availlable from date till date'''\n",
    " \n",
    "now = datetime.now().date()\n",
    "\n",
    "diff = timedelta(days=random.randint(1, 30))\n",
    "diff2 = timedelta(days=random.randint(1, 100))\n",
    "\n",
    "from_date = now + diff\n",
    "till_date = from_date + diff2\n",
    "print from_date\n",
    "print till_date"
   ]
  },
  {
   "cell_type": "markdown",
   "metadata": {},
   "source": [
    "Arrival_Time"
   ]
  },
  {
   "cell_type": "code",
   "execution_count": null,
   "metadata": {
    "collapsed": true
   },
   "outputs": [],
   "source": [
    "'''Arrival time'''\n",
    "\n",
    "arrivals = ['11:00', '12:00', '13:00', '14:00', '15:00', '16:00', '23:00', '22:00']\n",
    "arrival_time = arrivals[random.randint(1, len(arrivals))]\n",
    "print arrival_time"
   ]
  }
 ],
 "metadata": {
  "kernelspec": {
   "display_name": "Python 2",
   "language": "python",
   "name": "python2"
  },
  "language_info": {
   "codemirror_mode": {
    "name": "ipython",
    "version": 2
   },
   "file_extension": ".py",
   "mimetype": "text/x-python",
   "name": "python",
   "nbconvert_exporter": "python",
   "pygments_lexer": "ipython2",
   "version": "2.7.13"
  }
 },
 "nbformat": 4,
 "nbformat_minor": 2
}
