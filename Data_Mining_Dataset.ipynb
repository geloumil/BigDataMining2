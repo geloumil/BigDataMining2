{
 "cells": [
  {
   "cell_type": "code",
   "execution_count": 21,
   "metadata": {
    "collapsed": true
   },
   "outputs": [],
   "source": [
    "import psycopg2\n",
    "import sys\n",
    "from datetime import datetime\n",
    "from datetime import timedelta\n",
    "from datetime import date\n",
    "import random\n",
    "import numpy as np"
   ]
  },
  {
   "cell_type": "code",
   "execution_count": 22,
   "metadata": {
    "collapsed": true
   },
   "outputs": [],
   "source": [
    "now = datetime.now().date()\n",
    "arrivals = ['11:00', '12:00', '13:00', '14:00', '15:00', '16:00', '23:00', '22:00']"
   ]
  },
  {
   "cell_type": "markdown",
   "metadata": {},
   "source": [
    "Crud"
   ]
  },
  {
   "cell_type": "code",
   "execution_count": 5,
   "metadata": {
    "collapsed": true
   },
   "outputs": [],
   "source": [
    "con = None\n",
    "\n",
    "try:\n",
    "    con = psycopg2.connect(\"host = 'localhost' dbname='postgres' user = 'postgres'  password = 'postgres'\")\n",
    "    cur = con.cursor()\n",
    "#     cur.execute(\"CREATE TABLE Persons(Username varchar(40), Name varchar(40), Surame varchar(40),Password varchar(40), Date_of_Birth varchar(40), Days_of_Reservation integer)\")\n",
    "#     cur.execute(\"CREATE TABLE Room(Id_Room integer, Location varchar(40), Available_From_Date varchar(40),Available_Till_Date varchar(40), Area integer, Price integer, People_Capacity integer, Plus_Person_Price integer, Arrival_Time varchar(40), Single integer, Sofa integer, Double_Bed integer, King_Size integer, Pets boolean, Smoking boolean, Events boolean, Minimum_Days integer, Air_Condition boolean, Heating boolean, WiFi boolean, TV boolean, Elevator boolean, Parking boolean, Oving boolean)\")\n",
    "#     cur.execute(\"INSERT INTO Persons VALUES('than', 'thanasis', 'Kar', 5, 'thanos', '01/07/1988')\")\n",
    "#     cur.execute(\"DROP TABLE Persons\")\n",
    "#     cur.execute(\"DROP TABLE Room\")\n",
    "    con.commit()\n",
    "except psycopg2.DatabaseError, e:\n",
    "    if con:\n",
    "        con.rollback()\n",
    "        \n",
    "    print 'Error %s' %e\n",
    "    sys.exit(1)\n",
    "    \n",
    "# finally:\n",
    "#     if con:\n",
    "#         con.close()"
   ]
  },
  {
   "cell_type": "markdown",
   "metadata": {},
   "source": [
    "Database Selects"
   ]
  },
  {
   "cell_type": "code",
   "execution_count": null,
   "metadata": {
    "collapsed": true
   },
   "outputs": [],
   "source": [
    "cur = con.cursor()\n",
    "# cur.execute(\"\"\"SELECT * from Persons\"\"\")\n",
    "cur.execute(\"\"\"SELECT * from Room\"\"\")\n",
    "\n",
    "rows = cur.fetchall()\n",
    "print \"\\nRows: \\n\"\n",
    "for row in rows:\n",
    "    print row"
   ]
  },
  {
   "cell_type": "markdown",
   "metadata": {},
   "source": [
    "Create Rules"
   ]
  },
  {
   "cell_type": "code",
   "execution_count": null,
   "metadata": {
    "collapsed": true
   },
   "outputs": [],
   "source": [
    "Id_Room\n",
    "Location \n",
    "Available_From_Date \n",
    "Available_Till_Date \n",
    "Area \n",
    "Price \n",
    "People_Capacity \n",
    "Plus_Person_Price \n",
    "Arrival_Time\n",
    "Single Sofa, Double_Bed, King_Size, \n",
    "Pets Smoking, Events Minimum_Days, Air_Condition, Heating, WiFi, TV, Elevator, Parking, Oven"
   ]
  },
  {
   "cell_type": "code",
   "execution_count": null,
   "metadata": {
    "collapsed": true
   },
   "outputs": [],
   "source": []
  },
  {
   "cell_type": "code",
   "execution_count": 30,
   "metadata": {},
   "outputs": [
    {
     "name": "stdout",
     "output_type": "stream",
     "text": [
      "['2018-03-30', '2018-06-18', 50, 490, 4, 429, '23:00', 0, 0, 0, 0, 0, 1, 1, 7, 0]\n",
      "['2018-03-26', '2018-06-23', 92, 355, 6, 326, '11:00', 1, 0, 0, 1, 1, 0, 1, 3, 1]\n",
      "['2018-04-13', '2018-05-17', 50, 325, 0, 51, '16:00', 1, 0, 0, 1, 1, 0, 1, 0, 1]\n",
      "['2018-04-02', '2018-06-26', 68, 317, 0, 409, '13:00', 0, 1, 1, 1, 0, 0, 1, 6, 0]\n",
      "['2018-04-05', '2018-06-29', 25, 412, 5, 324, '15:00', 1, 0, 1, 1, 1, 1, 1, 9, 1]\n",
      "['2018-03-22', '2018-06-01', 91, 24, 5, 491, '23:00', 0, 0, 1, 1, 0, 1, 0, 8, 0]\n",
      "['2018-04-04', '2018-04-09', 33, 329, 8, 147, '12:00', 1, 1, 0, 1, 0, 0, 1, 3, 1]\n",
      "['2018-03-19', '2018-04-02', 25, 19, 3, 366, '11:00', 1, 0, 1, 0, 0, 0, 0, 9, 1]\n",
      "['2018-03-29', '2018-05-15', 66, 266, 0, 183, '22:00', 1, 1, 0, 0, 0, 0, 1, 10, 0]\n",
      "['2018-04-03', '2018-07-09', 36, 348, 4, 4, '23:00', 1, 1, 0, 1, 1, 1, 0, 6, 1]\n",
      "['2018-04-08', '2018-06-06', 38, 464, 8, 2, '13:00', 0, 1, 0, 1, 1, 1, 0, 0, 1]\n",
      "['2018-03-23', '2018-06-04', 85, 46, 1, 477, '14:00', 0, 0, 1, 0, 1, 0, 0, 2, 1]\n",
      "['2018-03-26', '2018-04-21', 25, 437, 0, 105, '13:00', 0, 0, 0, 0, 1, 0, 1, 7, 0]\n",
      "['2018-03-21', '2018-05-31', 79, 438, 5, 484, '13:00', 1, 0, 1, 0, 1, 1, 1, 10, 0]\n",
      "['2018-04-02', '2018-06-13', 26, 26, 8, 94, '14:00', 1, 0, 1, 1, 1, 1, 1, 7, 0]\n",
      "['2018-04-13', '2018-07-17', 85, 432, 9, 380, '16:00', 1, 0, 1, 0, 0, 1, 1, 3, 1]\n",
      "['2018-04-04', '2018-05-29', 43, 182, 3, 339, '15:00', 1, 1, 0, 0, 1, 1, 0, 7, 1]\n",
      "['2018-03-30', '2018-04-22', 71, 467, 7, 99, '22:00', 0, 0, 0, 0, 0, 0, 1, 9, 0]\n",
      "['2018-04-13', '2018-04-17', 74, 317, 4, 381, '11:00', 1, 1, 0, 1, 0, 1, 1, 6, 0]\n",
      "['2018-03-26', '2018-06-27', 31, 211, 8, 216, '13:00', 1, 0, 1, 1, 1, 1, 0, 6, 1]\n",
      "['2018-04-16', '2018-05-22', 33, 334, 7, 280, '13:00', 1, 0, 0, 0, 1, 0, 0, 3, 0]\n",
      "['2018-03-30', '2018-06-12', 83, 469, 9, 441, '12:00', 0, 0, 0, 1, 0, 1, 1, 9, 1]\n",
      "['2018-04-15', '2018-05-13', 46, 260, 1, 218, '14:00', 0, 0, 0, 0, 1, 0, 1, 7, 0]\n",
      "['2018-04-08', '2018-04-30', 40, 285, 0, 283, '14:00', 1, 1, 0, 0, 1, 1, 0, 7, 1]\n",
      "['2018-03-22', '2018-06-18', 48, 40, 7, 79, '16:00', 1, 1, 0, 1, 0, 0, 1, 7, 0]\n",
      "['2018-03-25', '2018-05-12', 70, 297, 4, 394, '11:00', 0, 0, 0, 0, 1, 0, 1, 10, 1]\n",
      "['2018-04-08', '2018-05-24', 66, 245, 2, 54, '22:00', 0, 0, 0, 1, 0, 0, 1, 3, 0]\n",
      "['2018-04-06', '2018-06-18', 38, 15, 1, 200, '12:00', 1, 0, 0, 1, 1, 1, 0, 7, 0]\n",
      "['2018-04-09', '2018-05-26', 73, 90, 1, 137, '12:00', 1, 1, 1, 0, 0, 1, 1, 5, 1]\n",
      "['2018-03-19', '2018-06-22', 32, 396, 0, 200, '14:00', 1, 0, 1, 1, 0, 1, 0, 10, 0]\n",
      "['2018-04-10', '2018-04-15', 61, 144, 6, 53, '11:00', 0, 1, 0, 1, 1, 1, 0, 0, 1]\n",
      "['2018-03-24', '2018-06-11', 61, 466, 9, 54, '22:00', 0, 0, 0, 1, 0, 0, 1, 0, 0]\n",
      "['2018-03-20', '2018-06-17', 48, 56, 5, 268, '22:00', 1, 1, 0, 1, 1, 1, 1, 1, 1]\n",
      "['2018-04-16', '2018-05-29', 98, 211, 2, 186, '12:00', 0, 1, 1, 0, 0, 0, 0, 10, 1]\n",
      "['2018-04-12', '2018-04-14', 27, 303, 5, 86, '13:00', 1, 1, 0, 0, 0, 1, 1, 5, 0]\n",
      "['2018-04-15', '2018-07-10', 32, 411, 7, 420, '12:00', 1, 1, 0, 0, 0, 0, 1, 2, 1]\n",
      "['2018-03-20', '2018-05-20', 38, 258, 5, 29, '14:00', 1, 1, 1, 0, 0, 1, 1, 5, 0]\n",
      "['2018-04-17', '2018-05-19', 90, 51, 9, 216, '22:00', 0, 1, 0, 0, 1, 0, 1, 5, 1]\n",
      "['2018-03-31', '2018-04-12', 77, 107, 5, 158, '14:00', 1, 1, 0, 1, 1, 1, 0, 0, 1]\n",
      "['2018-04-05', '2018-05-25', 42, 352, 4, 23, '16:00', 0, 1, 1, 1, 1, 1, 0, 9, 0]\n",
      "['2018-04-16', '2018-06-30', 34, 474, 7, 476, '11:00', 0, 1, 0, 0, 0, 0, 0, 7, 0]\n",
      "['2018-04-07', '2018-04-29', 32, 246, 1, 300, '13:00', 0, 0, 1, 1, 0, 1, 0, 1, 1]\n",
      "['2018-04-15', '2018-05-28', 47, 293, 6, 177, '13:00', 0, 0, 0, 0, 1, 1, 1, 0, 1]\n",
      "['2018-03-24', '2018-05-05', 40, 182, 8, 213, '23:00', 0, 0, 0, 0, 1, 1, 0, 6, 0]\n",
      "['2018-04-14', '2018-04-26', 24, 41, 2, 365, '14:00', 0, 1, 1, 1, 1, 0, 1, 1, 1]\n",
      "['2018-03-27', '2018-06-21', 0, 10000, 100, 10000, '23:00', 0, 1, 1, 1, 0, 1, 1, 3, 1]\n",
      "['2018-03-26', '2018-05-18', 82, 479, 3, 203, '13:00', 0, 1, 1, 0, 0, 0, 0, 2, 0]\n",
      "['2018-03-28', '2018-05-24', 30, 496, 3, 251, '12:00', 1, 0, 1, 0, 1, 1, 1, 8, 1]\n",
      "['2018-04-11', '2018-04-26', 74, 350, 3, 350, '12:00', 1, 0, 1, 0, 0, 1, 1, 0, 1]\n",
      "['2018-04-09', '2018-05-16', 21, 472, 4, 63, '15:00', 1, 1, 1, 0, 0, 1, 1, 4, 0]\n",
      "['2018-03-24', '2018-05-28', 78, 349, 1, 191, '16:00', 0, 0, 0, 1, 0, 1, 0, 7, 0]\n",
      "['2018-03-26', '2018-04-11', 26, 483, 3, 420, '22:00', 0, 0, 1, 0, 0, 0, 1, 10, 1]\n",
      "['2018-03-23', '2018-03-24', 25, 134, 8, 485, '22:00', 1, 1, 0, 0, 1, 0, 1, 7, 1]\n",
      "['2018-04-10', '2018-04-26', 62, 41, 1, 87, '15:00', 0, 0, 0, 1, 0, 1, 1, 3, 0]\n",
      "['2018-03-30', '2018-05-11', 34, 480, 6, 201, '13:00', 1, 1, 1, 0, 1, 0, 1, 4, 0]\n",
      "['2018-03-24', '2018-05-03', 20, 322, 2, 351, '12:00', 1, 0, 1, 1, 0, 0, 0, 3, 1]\n",
      "['2018-04-01', '2018-07-04', 64, 174, 1, 321, '22:00', 0, 1, 0, 1, 1, 1, 0, 2, 1]\n",
      "['2018-03-27', '2018-04-22', 94, 62, 2, 396, '12:00', 0, 1, 0, 1, 0, 1, 1, 4, 1]\n",
      "['2018-04-04', '2018-06-07', 84, 189, 3, 339, '16:00', 1, 0, 0, 0, 0, 0, 1, 8, 1]\n"
     ]
    }
   ],
   "source": [
    "#pinakas Rules\n",
    "n = 60     #arithmos eggrafwn\n",
    "\n",
    "for j in range(1,n):\n",
    "    room = []\n",
    "    # Available_From_Date, Available_Till_Date\n",
    "    \n",
    "    diff = timedelta(days=random.randint(1, 30))\n",
    "    diff2 = timedelta(days=random.randint(1, 100))\n",
    "\n",
    "    from_date = now + diff\n",
    "    till_date = from_date + diff2\n",
    "    room.append(str(from_date))\n",
    "    room.append(str(till_date))\n",
    "    \n",
    "    # Area\n",
    "    \n",
    "    if j%46 != 0:\n",
    "        area = np.random.randint(20, 100)\n",
    "    elif j%100 == 2:\n",
    "        area = \" \"\n",
    "    else:\n",
    "        area = 0\n",
    "    room.append(area)\n",
    "    \n",
    "    # Price\n",
    "    \n",
    "    if j%46 != 0:\n",
    "        price = np.random.randint(0, 500)\n",
    "    elif j%10 == 2:\n",
    "        price = \" \"\n",
    "    else:\n",
    "        price = 10000\n",
    "    room.append(price)\n",
    "    \n",
    "    # People_Capacity\n",
    "    if j%46 != 0:\n",
    "        capacity = np.random.randint(0, 10)\n",
    "    elif j%100 == 2:\n",
    "        capacity = \" \"\n",
    "    else:\n",
    "        capacity = 100\n",
    "    room.append(capacity)\n",
    "    \n",
    "    \n",
    "    # Plus_Person_Price\n",
    "    \n",
    "    if j%46 != 0:\n",
    "        plus_price = np.random.randint(0, 500)\n",
    "    elif j%10 == 2:\n",
    "        plus_price = \" \"\n",
    "    else:\n",
    "        plus_price = 10000\n",
    "    room.append(plus_price)\n",
    "    \n",
    "    # Arrival_Time\n",
    "    \n",
    "    arrival_time = arrivals[random.randint(0, len(arrivals) - 1)]\n",
    "    room.append(str(arrival_time))\n",
    "    # Beds\n",
    "    \n",
    "    for i in range(1,5):        #gia ta bed types\n",
    "        if i%200 != 0:\n",
    "            beds = np.random.binomial(n=1, p= 0.5)\n",
    "        elif i%26 == 0:\n",
    "            beds = \" \"\n",
    "        else:\n",
    "            beds = '20'\n",
    "        room.append(beds)\n",
    "    \n",
    "    \n",
    "    # Rules\n",
    "    \n",
    "    for i in range(1,4):        #gia ta Pets, Smoking, Events\n",
    "        if i%200 != 0:\n",
    "            pse = np.random.binomial(n=1, p= 0.5)\n",
    "        elif i%26 == 0:\n",
    "            pse =' '\n",
    "        else:\n",
    "            pse = '2'\n",
    "        room.append(pse)\n",
    "    min_days= np.random.randint(0, 11)      #gia to Minimum_Days\n",
    "    room.append(min_days)\n",
    "    \n",
    "    for i in range(1,8):      \n",
    "        if i%200 != 0:\n",
    "            facilities = np.random.binomial(n=1, p= 0.5)\n",
    "        elif i%26 == 0:\n",
    "            facilities = ' '\n",
    "        else:\n",
    "            facilities = '2'\n",
    "    room.append(facilities)\n",
    "    \n",
    "    print room\n",
    "    \n",
    "    #cur.execute(\"INSERT INTO Persons VALUES('than', 'thanasis', 'Kar', 5, 'thanos', '01/07/1988')\")"
   ]
  },
  {
   "cell_type": "markdown",
   "metadata": {},
   "source": [
    "Date_of_Birth"
   ]
  },
  {
   "cell_type": "code",
   "execution_count": null,
   "metadata": {
    "collapsed": true
   },
   "outputs": [],
   "source": [
    "year = random.randint(1930, 1999)\n",
    "month = random.randint(1, 12)\n",
    "if month in [1, 3, 5, 7, 8, 10, 12]:\n",
    "    day = random.randint(1, 31)\n",
    "elif month == 2:\n",
    "    day = random.randint(1, 28)\n",
    "else:\n",
    "    day = random.randint(1, 30)\n",
    "        \n",
    "birth_date = date(year, month, day)\n",
    "print birth_date\n",
    "\n",
    "'''Age according to random birth date'''\n",
    "\n",
    "age = 2018 - year\n",
    "print age"
   ]
  }
 ],
 "metadata": {
  "kernelspec": {
   "display_name": "Python 2",
   "language": "python",
   "name": "python2"
  },
  "language_info": {
   "codemirror_mode": {
    "name": "ipython",
    "version": 2
   },
   "file_extension": ".py",
   "mimetype": "text/x-python",
   "name": "python",
   "nbconvert_exporter": "python",
   "pygments_lexer": "ipython2",
   "version": "2.7.13"
  }
 },
 "nbformat": 4,
 "nbformat_minor": 2
}
