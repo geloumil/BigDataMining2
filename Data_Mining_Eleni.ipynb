{
 "cells": [
  {
   "cell_type": "code",
   "execution_count": 4,
   "metadata": {},
   "outputs": [
    {
     "name": "stdout",
     "output_type": "stream",
     "text": [
      "1956-07-23\n",
      "62\n"
     ]
    }
   ],
   "source": [
    "'''Random birth date'''\n",
    "\n",
    "from datetime import datetime\n",
    "from datetime import timedelta\n",
    "from datetime import date\n",
    "import random\n",
    " \n",
    "year = random.randint(1930, 1999)\n",
    "month = random.randint(1, 12)\n",
    "if month in [1, 3, 5, 7, 8, 10, 12]:\n",
    "    day = random.randint(1, 31)\n",
    "elif month == 2:\n",
    "    day = random.randint(1, 28)\n",
    "else:\n",
    "    day = random.randint(1, 30)\n",
    "        \n",
    "birth_date = date(year, month, day)\n",
    "print birth_date\n",
    "\n",
    "'''Age according to random birth date'''\n",
    "\n",
    "age = 2018 - year\n",
    "print age"
   ]
  },
  {
   "cell_type": "code",
   "execution_count": 5,
   "metadata": {},
   "outputs": [
    {
     "name": "stdout",
     "output_type": "stream",
     "text": [
      "2018-03-28\n",
      "2018-04-01\n"
     ]
    }
   ],
   "source": [
    "'''Availlable from date till date'''\n",
    " \n",
    "now = datetime.now().date()\n",
    "\n",
    "diff = timedelta(days=random.randint(1, 30))\n",
    "diff2 = timedelta(days=random.randint(1, 100))\n",
    "\n",
    "from_date = now + diff\n",
    "till_date = from_date + diff2\n",
    "print from_date\n",
    "print till_date"
   ]
  },
  {
   "cell_type": "code",
   "execution_count": 6,
   "metadata": {},
   "outputs": [
    {
     "name": "stdout",
     "output_type": "stream",
     "text": [
      "12:00\n"
     ]
    }
   ],
   "source": [
    "'''Arrival time'''\n",
    "\n",
    "arrivals = ['11:00', '12:00', '13:00', '14:00', '15:00', '16:00', '23:00', '22:00']\n",
    "arrival_time = arrivals[random.randint(1, len(arrivals))]\n",
    "print arrival_time\n"
   ]
  }
 ],
 "metadata": {
  "kernelspec": {
   "display_name": "Python 2",
   "language": "python",
   "name": "python2"
  },
  "language_info": {
   "codemirror_mode": {
    "name": "ipython",
    "version": 2
   },
   "file_extension": ".py",
   "mimetype": "text/x-python",
   "name": "python",
   "nbconvert_exporter": "python",
   "pygments_lexer": "ipython2",
   "version": "2.7.13"
  }
 },
 "nbformat": 4,
 "nbformat_minor": 2
}
